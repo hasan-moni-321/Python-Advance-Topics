{
 "cells": [
  {
   "cell_type": "code",
   "execution_count": 2,
   "metadata": {},
   "outputs": [
    {
     "name": "stdout",
     "output_type": "stream",
     "text": [
      "Rana\n",
      "hasan.moni@.com\n",
      "Rana moni\n"
     ]
    }
   ],
   "source": [
    "class Employee():\n",
    "    \n",
    "    percent_increase = 1.04\n",
    "    \n",
    "    def __init__(self, first, last, salary):\n",
    "        self.first = first\n",
    "        self.last = last\n",
    "        self.email = first+'.'+last+'@.com'\n",
    "        self.salary = salary\n",
    "        \n",
    "    def full_name(self):\n",
    "        return '{} {}'.format(self.first, self.last)\n",
    "    \n",
    "\n",
    "emp_1 = Employee('hasan','moni', 1000)\n",
    "emp_1.first = 'Rana'\n",
    "\n",
    "print(emp_1.first)\n",
    "print(emp_1.email)\n",
    "print(emp_1.full_name())"
   ]
  },
  {
   "cell_type": "markdown",
   "metadata": {},
   "source": [
    "Note: here first name changed but first name of email don't changed. Because constructor don't have parameter \n",
    "    email."
   ]
  },
  {
   "cell_type": "code",
   "execution_count": null,
   "metadata": {},
   "outputs": [],
   "source": []
  },
  {
   "cell_type": "code",
   "execution_count": null,
   "metadata": {},
   "outputs": [],
   "source": []
  },
  {
   "cell_type": "code",
   "execution_count": 14,
   "metadata": {},
   "outputs": [
    {
     "name": "stdout",
     "output_type": "stream",
     "text": [
      "Rana\n",
      "Rana.moni.@email.com\n",
      "Rana moni\n"
     ]
    }
   ],
   "source": [
    "class Employee():\n",
    "    \n",
    "    percent_increase = 1.04\n",
    "    \n",
    "    def __init__(self, first, last):\n",
    "        self.first = first\n",
    "        self.last = last\n",
    "    \n",
    "    def email(self):\n",
    "        return '{}.{}.@email.com'.format(self.first, self.last)\n",
    "     \n",
    "    def full_name(self):\n",
    "        return '{} {}'.format(self.first, self.last)\n",
    "    \n",
    "    \n",
    "    \n",
    "\n",
    "emp_1 = Employee('hasan','moni')\n",
    "emp_1.first = 'Rana'\n",
    "\n",
    "print(emp_1.first)\n",
    "print(emp_1.email())\n",
    "print(emp_1.full_name())"
   ]
  },
  {
   "cell_type": "markdown",
   "metadata": {},
   "source": [
    "Note: now the first name of email has changed. "
   ]
  },
  {
   "cell_type": "code",
   "execution_count": null,
   "metadata": {},
   "outputs": [],
   "source": []
  },
  {
   "cell_type": "code",
   "execution_count": null,
   "metadata": {},
   "outputs": [],
   "source": []
  },
  {
   "cell_type": "code",
   "execution_count": 28,
   "metadata": {},
   "outputs": [
    {
     "name": "stdout",
     "output_type": "stream",
     "text": [
      "Rana\n",
      "Rana.moni.@email.com\n",
      "Rana moni\n"
     ]
    }
   ],
   "source": [
    "#adding @property  to the initializer\n",
    "class Employee():\n",
    "    \n",
    "    percent_increase = 1.04\n",
    "    \n",
    "    def __init__(self, first, last):\n",
    "        self.first = first\n",
    "        self.last = last\n",
    "    \n",
    "    @property\n",
    "    def email(self):\n",
    "        return '{}.{}.@email.com'.format(self.first, self.last)\n",
    "     \n",
    "    def full_name(self):\n",
    "        return '{} {}'.format(self.first, self.last)\n",
    "    \n",
    "\n",
    "\n",
    "emp_1 = Employee('hasan','moni')\n",
    "emp_1.first = 'Rana'\n",
    "\n",
    "print(emp_1.first)\n",
    "#calling directly email using object\n",
    "print(emp_1.email)\n",
    "print(emp_1.full_name())"
   ]
  },
  {
   "cell_type": "code",
   "execution_count": null,
   "metadata": {},
   "outputs": [],
   "source": []
  },
  {
   "cell_type": "code",
   "execution_count": null,
   "metadata": {},
   "outputs": [],
   "source": []
  },
  {
   "cell_type": "markdown",
   "metadata": {},
   "source": [
    "now I can call directly email"
   ]
  },
  {
   "cell_type": "code",
   "execution_count": 41,
   "metadata": {},
   "outputs": [
    {
     "name": "stdout",
     "output_type": "stream",
     "text": [
      "hasan\n",
      "hasan.moni.@email.com\n",
      "hasan moni\n"
     ]
    }
   ],
   "source": [
    "#adding @property  to the initializer\n",
    "class Employee():\n",
    "    \n",
    "    percent_increase = 1.04\n",
    "    \n",
    "    def __init__(self, first, last):\n",
    "        self.first = first\n",
    "        self.last = last\n",
    "    \n",
    "    @property\n",
    "    def email(self):\n",
    "        return '{}.{}.@email.com'.format(self.first, self.last)\n",
    "    \n",
    "    @property \n",
    "    def full_name(self):\n",
    "        return '{} {}'.format(self.first, self.last)\n",
    "    \n",
    "\n",
    "\n",
    "emp_1 = Employee('hasan','moni')\n",
    "\n",
    "\n",
    "#emp_1.full_name = 'aaaaa bbbbb'\n",
    "print(emp_1.first)\n",
    "print(emp_1.email)\n",
    "#print(emp_1.full_name())\n",
    "print(emp_1.full_name)"
   ]
  },
  {
   "cell_type": "code",
   "execution_count": null,
   "metadata": {},
   "outputs": [],
   "source": []
  },
  {
   "cell_type": "code",
   "execution_count": null,
   "metadata": {},
   "outputs": [],
   "source": []
  },
  {
   "cell_type": "code",
   "execution_count": 48,
   "metadata": {},
   "outputs": [
    {
     "name": "stdout",
     "output_type": "stream",
     "text": [
      "aaaaa\n",
      "aaaaa.bbbbb.@email.com\n",
      "aaaaa bbbbb\n"
     ]
    }
   ],
   "source": [
    "#adding @property  to the initializer\n",
    "class Employee():\n",
    "    \n",
    "    percent_increase = 1.04\n",
    "    \n",
    "    def __init__(self, first, last):\n",
    "        self.first = first\n",
    "        self.last = last\n",
    "    \n",
    "    @property\n",
    "    def email(self):\n",
    "        return '{}.{}.@email.com'.format(self.first, self.last)\n",
    "    \n",
    "    @property \n",
    "    def full_name(self):\n",
    "        return '{} {}'.format(self.first, self.last)\n",
    "    \n",
    "    @full_name.setter\n",
    "    def full_name(self, name):\n",
    "        first, last = name.split()\n",
    "        self.first = first\n",
    "        self.last = last\n",
    "        \n",
    "    @full_name.deleter\n",
    "    def full_name(self):\n",
    "        print('Delete Name !!')\n",
    "        self.first = None\n",
    "        self.last = None\n",
    "        \n",
    "    \n",
    "\n",
    "\n",
    "emp_1 = Employee('hasan','moni')\n",
    "#setting new name\n",
    "emp_1.full_name = 'aaaaa bbbbb'\n",
    "print(emp_1.first)\n",
    "print(emp_1.email)\n",
    "print(emp_1.full_name)"
   ]
  },
  {
   "cell_type": "code",
   "execution_count": null,
   "metadata": {},
   "outputs": [],
   "source": []
  },
  {
   "cell_type": "code",
   "execution_count": 49,
   "metadata": {},
   "outputs": [
    {
     "name": "stdout",
     "output_type": "stream",
     "text": [
      "aaaaa\n",
      "aaaaa.bbbbb.@email.com\n",
      "aaaaa bbbbb\n",
      "Delete Name !!\n"
     ]
    }
   ],
   "source": [
    "emp_1 = Employee('hasan','moni')\n",
    "\n",
    "emp_1.full_name = 'aaaaa bbbbb'\n",
    "print(emp_1.first)\n",
    "print(emp_1.email)\n",
    "print(emp_1.full_name)\n",
    "\n",
    "del(emp_1.full_name)"
   ]
  },
  {
   "cell_type": "code",
   "execution_count": null,
   "metadata": {},
   "outputs": [],
   "source": []
  }
 ],
 "metadata": {
  "kernelspec": {
   "display_name": "Python 3",
   "language": "python",
   "name": "python3"
  },
  "language_info": {
   "codemirror_mode": {
    "name": "ipython",
    "version": 3
   },
   "file_extension": ".py",
   "mimetype": "text/x-python",
   "name": "python",
   "nbconvert_exporter": "python",
   "pygments_lexer": "ipython3",
   "version": "3.7.4"
  }
 },
 "nbformat": 4,
 "nbformat_minor": 2
}
