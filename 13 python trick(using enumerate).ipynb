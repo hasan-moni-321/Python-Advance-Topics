{
 "cells": [
  {
   "cell_type": "code",
   "execution_count": 4,
   "metadata": {},
   "outputs": [
    {
     "name": "stdout",
     "output_type": "stream",
     "text": [
      "0 Hasan \n",
      "1 Moni \n",
      "2 Nomita \n",
      "3 Roy \n",
      "4 live \n",
      "5 in \n",
      "6 sylhet \n"
     ]
    }
   ],
   "source": [
    "l = ['Hasan ','Moni ','Nomita ','Roy ','live ','in ','sylhet ']\n",
    "\n",
    "index=0\n",
    "for name in l:\n",
    "    print(index, name)\n",
    "    index+=1"
   ]
  },
  {
   "cell_type": "code",
   "execution_count": 7,
   "metadata": {},
   "outputs": [
    {
     "name": "stdout",
     "output_type": "stream",
     "text": [
      "2 Hasan \n",
      "3 Moni \n",
      "4 Nomita \n",
      "5 Roy \n",
      "6 live \n",
      "7 in \n",
      "8 sylhet \n"
     ]
    }
   ],
   "source": [
    "#shortly\n",
    "l = ['Hasan ','Moni ','Nomita ','Roy ','live ','in ','sylhet ']\n",
    "\n",
    "for index, name in enumerate(l, start=2): #you can change start value\n",
    "    print(index, name)"
   ]
  },
  {
   "cell_type": "code",
   "execution_count": null,
   "metadata": {},
   "outputs": [],
   "source": []
  }
 ],
 "metadata": {
  "kernelspec": {
   "display_name": "Python 3",
   "language": "python",
   "name": "python3"
  },
  "language_info": {
   "codemirror_mode": {
    "name": "ipython",
    "version": 3
   },
   "file_extension": ".py",
   "mimetype": "text/x-python",
   "name": "python",
   "nbconvert_exporter": "python",
   "pygments_lexer": "ipython3",
   "version": "3.7.5"
  }
 },
 "nbformat": 4,
 "nbformat_minor": 2
}
