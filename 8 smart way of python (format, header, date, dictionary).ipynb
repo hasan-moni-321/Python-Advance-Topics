{
 "cells": [
  {
   "cell_type": "code",
   "execution_count": null,
   "metadata": {},
   "outputs": [],
   "source": []
  },
  {
   "cell_type": "markdown",
   "metadata": {},
   "source": [
    "##### Format"
   ]
  },
  {
   "cell_type": "code",
   "execution_count": 13,
   "metadata": {},
   "outputs": [
    {
     "name": "stdout",
     "output_type": "stream",
     "text": [
      "My name is hasan and my age is 25\n",
      "\n",
      "\n",
      "My name is hasan and my age is 25\n",
      "\n",
      "\n",
      "My name is hasan and my age is 25\n",
      "\n",
      "\n",
      "My name is hasan and my age is 25\n",
      "\n",
      "\n",
      "My name is moni and my age is 28\n"
     ]
    }
   ],
   "source": [
    "person = {'name':'hasan', 'age': 25}\n",
    "\n",
    "#one way\n",
    "sentence = 'My name is {} and my age is {}'.format(person['name'], person['age'])\n",
    "print(sentence)\n",
    "\n",
    "\n",
    "#same way with serial number\n",
    "sentence = '\\n\\nMy name is {0} and my age is {1}'.format(person['name'], person['age'])\n",
    "print(sentence)\n",
    "\n",
    "\n",
    "\n",
    "#same way with serial number\n",
    "sentence = '\\n\\nMy name is {0[name]} and my age is {1[age]}'.format(person, person)\n",
    "print(sentence)\n",
    "\n",
    "\n",
    "#same way with serial number\n",
    "sentence = '\\n\\nMy name is {0[name]} and my age is {0[age]}'.format(person)\n",
    "print(sentence)\n",
    "\n",
    "\n",
    "l = ['moni', 28]\n",
    "sentence = '\\n\\nMy name is {0[0]} and my age is {0[1]}'.format(l)\n",
    "print(sentence)\n"
   ]
  },
  {
   "cell_type": "code",
   "execution_count": null,
   "metadata": {},
   "outputs": [],
   "source": []
  },
  {
   "cell_type": "markdown",
   "metadata": {},
   "source": [
    "##### Header"
   ]
  },
  {
   "cell_type": "code",
   "execution_count": 8,
   "metadata": {},
   "outputs": [
    {
     "name": "stdout",
     "output_type": "stream",
     "text": [
      "<h1>This is a headline</h1>\n"
     ]
    }
   ],
   "source": [
    "tag = 'h1'\n",
    "text = 'This is a headline'\n",
    "\n",
    "sentence = '<{0}>{1}</{0}>'.format(tag, text)\n",
    "print(sentence)"
   ]
  },
  {
   "cell_type": "code",
   "execution_count": null,
   "metadata": {},
   "outputs": [],
   "source": []
  },
  {
   "cell_type": "markdown",
   "metadata": {},
   "source": [
    "##### Work with class"
   ]
  },
  {
   "cell_type": "code",
   "execution_count": 15,
   "metadata": {},
   "outputs": [
    {
     "name": "stdout",
     "output_type": "stream",
     "text": [
      "My name is moni and my age is 23\n"
     ]
    }
   ],
   "source": [
    "class person():\n",
    "    def __init__(self, name, age):\n",
    "        self.name = name\n",
    "        self.age = age\n",
    "        \n",
    "p1 = person('moni', 23)\n",
    "\n",
    "sentence = 'My name is {0.name} and my age is {0.age}'.format(p1)\n",
    "print(sentence)"
   ]
  },
  {
   "cell_type": "code",
   "execution_count": null,
   "metadata": {},
   "outputs": [],
   "source": []
  },
  {
   "cell_type": "code",
   "execution_count": null,
   "metadata": {},
   "outputs": [],
   "source": []
  },
  {
   "cell_type": "code",
   "execution_count": 17,
   "metadata": {},
   "outputs": [
    {
     "name": "stdout",
     "output_type": "stream",
     "text": [
      "My name is moni and my age is 27\n"
     ]
    }
   ],
   "source": [
    "sentence = 'My name is {name} and my age is {age}'.format(name='moni', age='27')\n",
    "print(sentence)\n"
   ]
  },
  {
   "cell_type": "code",
   "execution_count": null,
   "metadata": {},
   "outputs": [],
   "source": []
  },
  {
   "cell_type": "code",
   "execution_count": null,
   "metadata": {},
   "outputs": [],
   "source": []
  },
  {
   "cell_type": "code",
   "execution_count": 18,
   "metadata": {},
   "outputs": [
    {
     "name": "stdout",
     "output_type": "stream",
     "text": [
      "My name is hasan Moni and my age is 22\n"
     ]
    }
   ],
   "source": [
    "person = {'name':'hasan Moni', 'age':22}\n",
    "sentence = 'My name is {name} and my age is {age}'.format(**person)\n",
    "print(sentence)\n"
   ]
  },
  {
   "cell_type": "code",
   "execution_count": null,
   "metadata": {},
   "outputs": [],
   "source": []
  },
  {
   "cell_type": "code",
   "execution_count": null,
   "metadata": {},
   "outputs": [],
   "source": []
  },
  {
   "cell_type": "code",
   "execution_count": 21,
   "metadata": {},
   "outputs": [
    {
     "name": "stdout",
     "output_type": "stream",
     "text": [
      "The number is : 0\n",
      "The number is : 1\n",
      "The number is : 2\n",
      "The number is : 3\n",
      "The number is : 4\n",
      "The number is : 5\n",
      "The number is : 6\n",
      "The number is : 7\n",
      "The number is : 8\n",
      "The number is : 9\n",
      "The number is : 10\n"
     ]
    }
   ],
   "source": [
    "for i in range(0,11):\n",
    "    sentence = 'The number is : {}'.format(i)\n",
    "    print(sentence)"
   ]
  },
  {
   "cell_type": "code",
   "execution_count": 24,
   "metadata": {},
   "outputs": [
    {
     "name": "stdout",
     "output_type": "stream",
     "text": [
      "The number is : 00\n",
      "The number is : 01\n",
      "The number is : 02\n",
      "The number is : 03\n",
      "The number is : 04\n",
      "The number is : 05\n",
      "The number is : 06\n",
      "The number is : 07\n",
      "The number is : 08\n",
      "The number is : 09\n",
      "The number is : 10\n"
     ]
    }
   ],
   "source": [
    "#taking two digit\n",
    "for i in range(0,11):\n",
    "    sentence = 'The number is : {:02}'.format(i)\n",
    "    print(sentence)"
   ]
  },
  {
   "cell_type": "code",
   "execution_count": 23,
   "metadata": {},
   "outputs": [
    {
     "name": "stdout",
     "output_type": "stream",
     "text": [
      "The number is : 000\n",
      "The number is : 001\n",
      "The number is : 002\n",
      "The number is : 003\n",
      "The number is : 004\n",
      "The number is : 005\n",
      "The number is : 006\n",
      "The number is : 007\n",
      "The number is : 008\n",
      "The number is : 009\n",
      "The number is : 010\n"
     ]
    }
   ],
   "source": [
    "#taking three digit\n",
    "for i in range(0,11):\n",
    "    sentence = 'The number is : {:03}'.format(i)\n",
    "    print(sentence)"
   ]
  },
  {
   "cell_type": "code",
   "execution_count": null,
   "metadata": {},
   "outputs": [],
   "source": []
  },
  {
   "cell_type": "markdown",
   "metadata": {},
   "source": [
    "##### working with pi"
   ]
  },
  {
   "cell_type": "code",
   "execution_count": 27,
   "metadata": {},
   "outputs": [
    {
     "data": {
      "text/plain": [
       "'Pi value is : 3.14159265'"
      ]
     },
     "execution_count": 27,
     "metadata": {},
     "output_type": "execute_result"
    }
   ],
   "source": [
    "pi = 3.14159265\n",
    "sentence = 'Pi value is : {}'.format(pi)\n",
    "sentence"
   ]
  },
  {
   "cell_type": "code",
   "execution_count": 29,
   "metadata": {},
   "outputs": [
    {
     "data": {
      "text/plain": [
       "'Pi value is : 3.14'"
      ]
     },
     "execution_count": 29,
     "metadata": {},
     "output_type": "execute_result"
    }
   ],
   "source": [
    "#taking only two decimal point\n",
    "pi = 3.14159265\n",
    "sentence = 'Pi value is : {:.2f}'.format(pi)\n",
    "sentence"
   ]
  },
  {
   "cell_type": "code",
   "execution_count": 30,
   "metadata": {},
   "outputs": [
    {
     "data": {
      "text/plain": [
       "'Pi value is : 3.142'"
      ]
     },
     "execution_count": 30,
     "metadata": {},
     "output_type": "execute_result"
    }
   ],
   "source": [
    "#taking only three decimal point\n",
    "pi = 3.14159265\n",
    "sentence = 'Pi value is : {:.3f}'.format(pi)\n",
    "sentence"
   ]
  },
  {
   "cell_type": "code",
   "execution_count": null,
   "metadata": {},
   "outputs": [],
   "source": []
  },
  {
   "cell_type": "code",
   "execution_count": null,
   "metadata": {},
   "outputs": [],
   "source": []
  },
  {
   "cell_type": "markdown",
   "metadata": {},
   "source": [
    "##### using khoma separator"
   ]
  },
  {
   "cell_type": "code",
   "execution_count": 33,
   "metadata": {},
   "outputs": [
    {
     "data": {
      "text/plain": [
       "'1 MB equal to : 2,000 bytes'"
      ]
     },
     "execution_count": 33,
     "metadata": {},
     "output_type": "execute_result"
    }
   ],
   "source": [
    "sentence = '1 MB equal to : {:,} bytes'.format(1000*2)\n",
    "sentence"
   ]
  },
  {
   "cell_type": "code",
   "execution_count": 35,
   "metadata": {},
   "outputs": [
    {
     "data": {
      "text/plain": [
       "'1 MB equal to : 2,000.00 bytes'"
      ]
     },
     "execution_count": 35,
     "metadata": {},
     "output_type": "execute_result"
    }
   ],
   "source": [
    "#with two decimal point\n",
    "sentence = '1 MB equal to : {:,.2f} bytes'.format(1000*2)\n",
    "sentence"
   ]
  },
  {
   "cell_type": "code",
   "execution_count": null,
   "metadata": {},
   "outputs": [],
   "source": []
  },
  {
   "cell_type": "code",
   "execution_count": null,
   "metadata": {},
   "outputs": [],
   "source": []
  },
  {
   "cell_type": "markdown",
   "metadata": {},
   "source": [
    "##### datetime"
   ]
  },
  {
   "cell_type": "code",
   "execution_count": 36,
   "metadata": {},
   "outputs": [
    {
     "name": "stdout",
     "output_type": "stream",
     "text": [
      "2015-11-25 08:30:15\n"
     ]
    }
   ],
   "source": [
    "import datetime\n",
    " \n",
    "mydate = datetime.datetime(2015, 11, 25, 8, 30, 15)\n",
    "print(mydate)"
   ]
  },
  {
   "cell_type": "code",
   "execution_count": 38,
   "metadata": {},
   "outputs": [
    {
     "name": "stdout",
     "output_type": "stream",
     "text": [
      "2015, 11\n"
     ]
    }
   ],
   "source": [
    "#date formatting\n",
    "sentence = '{:%Y, %m}'.format(mydate)\n",
    "print(sentence)"
   ]
  },
  {
   "cell_type": "code",
   "execution_count": null,
   "metadata": {},
   "outputs": [],
   "source": []
  },
  {
   "cell_type": "code",
   "execution_count": null,
   "metadata": {},
   "outputs": [],
   "source": []
  },
  {
   "cell_type": "code",
   "execution_count": 41,
   "metadata": {},
   "outputs": [
    {
     "name": "stdout",
     "output_type": "stream",
     "text": [
      "2015-11-25 08:30:15\n",
      "November 25, 2015 fell on a Wednesday and was the 329 day of the year\n"
     ]
    }
   ],
   "source": [
    "#full date and number of of day and day name\n",
    "import datetime\n",
    " \n",
    "mydate = datetime.datetime(2015, 11, 25, 8, 30, 15)\n",
    "print(mydate)\n",
    "\n",
    "sentence = '{0:%B %d, %Y} fell on a {0:%A} and was the {0:%j} day of the year'.format(mydate)\n",
    "print(sentence)"
   ]
  },
  {
   "cell_type": "code",
   "execution_count": null,
   "metadata": {},
   "outputs": [],
   "source": []
  }
 ],
 "metadata": {
  "kernelspec": {
   "display_name": "Python 3",
   "language": "python",
   "name": "python3"
  },
  "language_info": {
   "codemirror_mode": {
    "name": "ipython",
    "version": 3
   },
   "file_extension": ".py",
   "mimetype": "text/x-python",
   "name": "python",
   "nbconvert_exporter": "python",
   "pygments_lexer": "ipython3",
   "version": "3.7.5"
  }
 },
 "nbformat": 4,
 "nbformat_minor": 2
}
