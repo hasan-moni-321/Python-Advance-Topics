{
 "cells": [
  {
   "cell_type": "code",
   "execution_count": 2,
   "metadata": {},
   "outputs": [
    {
     "name": "stdout",
     "output_type": "stream",
     "text": [
      "<__main__.Employee object at 0x7f7ee8c57310>\n",
      "<__main__.Employee object at 0x7f7ee8c57350>\n"
     ]
    }
   ],
   "source": [
    "class Employee():\n",
    "    pass\n",
    "\n",
    "employee_1 = Employee()\n",
    "employee_2 = Employee()\n",
    "\n",
    "print(employee_1)\n",
    "print(employee_2)\n"
   ]
  },
  {
   "cell_type": "markdown",
   "metadata": {},
   "source": [
    "Note: both instance have two different location in memory"
   ]
  },
  {
   "cell_type": "code",
   "execution_count": 8,
   "metadata": {},
   "outputs": [
    {
     "name": "stdout",
     "output_type": "stream",
     "text": [
      "Hasan\n",
      "Hasa@company.com\n",
      "\n",
      "BBBB\n",
      "AAABBB@company.com\n"
     ]
    }
   ],
   "source": [
    "class Employee():\n",
    "    pass\n",
    "\n",
    "employee_1 = Employee()\n",
    "employee_2 = Employee()\n",
    "\n",
    "employee_1.first = 'Hasan'\n",
    "employee_1.second = 'Moni'\n",
    "employee_1.email = 'Hasa@company.com'\n",
    "\n",
    "employee_2.first = 'AAAA'\n",
    "employee_2.second = 'BBBB'\n",
    "employee_2.email = 'AAABBB@company.com'\n",
    "\n",
    "\n",
    "print(employee_1.first)\n",
    "print(employee_1.email)\n",
    "print()\n",
    "\n",
    "print(employee_2.second)\n",
    "print(employee_2.email)"
   ]
  },
  {
   "cell_type": "code",
   "execution_count": null,
   "metadata": {},
   "outputs": [],
   "source": []
  }
 ],
 "metadata": {
  "kernelspec": {
   "display_name": "Python 3",
   "language": "python",
   "name": "python3"
  },
  "language_info": {
   "codemirror_mode": {
    "name": "ipython",
    "version": 3
   },
   "file_extension": ".py",
   "mimetype": "text/x-python",
   "name": "python",
   "nbconvert_exporter": "python",
   "pygments_lexer": "ipython3",
   "version": "3.7.5"
  }
 },
 "nbformat": 4,
 "nbformat_minor": 2
}
