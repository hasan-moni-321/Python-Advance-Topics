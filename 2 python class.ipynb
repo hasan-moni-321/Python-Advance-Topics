{
 "cells": [
  {
   "cell_type": "code",
   "execution_count": 15,
   "metadata": {},
   "outputs": [
    {
     "name": "stdout",
     "output_type": "stream",
     "text": [
      "Hasan Hasan.Moni@.com\n",
      "Hasan Moni\n"
     ]
    }
   ],
   "source": [
    "class Employee():\n",
    "    def __init__(self, first, last, salary):\n",
    "        self.first=first\n",
    "        self.last=last\n",
    "        self.salary=salary\n",
    "        self.email=first+'.'+last+'@.com'\n",
    "        \n",
    "        \n",
    "employee = Employee('Hasan', 'Moni', 100000)\n",
    "\n",
    "\n",
    "print(employee.first, employee.email)\n",
    "#print full name of the employee\n",
    "print('{} {}'.format(employee.first, employee.last))"
   ]
  },
  {
   "cell_type": "code",
   "execution_count": null,
   "metadata": {},
   "outputs": [],
   "source": []
  },
  {
   "cell_type": "code",
   "execution_count": null,
   "metadata": {},
   "outputs": [],
   "source": []
  },
  {
   "cell_type": "code",
   "execution_count": 16,
   "metadata": {},
   "outputs": [
    {
     "name": "stdout",
     "output_type": "stream",
     "text": [
      "Hasan Hasan.Moni@.com\n"
     ]
    },
    {
     "data": {
      "text/plain": [
       "'Hasan Moni'"
      ]
     },
     "execution_count": 16,
     "metadata": {},
     "output_type": "execute_result"
    }
   ],
   "source": [
    "class Employee():\n",
    "    def __init__(self, first, last, salary):\n",
    "        self.first=first\n",
    "        self.last=last\n",
    "        self.salary=salary\n",
    "        self.email=first+'.'+last+'@.com'\n",
    "        \n",
    "    def full_name(self):\n",
    "        return ('{} {}'.format(self.first, self.last))\n",
    "        \n",
    "        \n",
    "employee = Employee('Hasan', 'Moni', 100000)\n",
    "\n",
    "\n",
    "print(employee.first, employee.email)\n",
    "\n",
    "#print full name of the employee\n",
    "employee.full_name()"
   ]
  },
  {
   "cell_type": "code",
   "execution_count": null,
   "metadata": {},
   "outputs": [],
   "source": []
  },
  {
   "cell_type": "code",
   "execution_count": null,
   "metadata": {},
   "outputs": [],
   "source": []
  },
  {
   "cell_type": "code",
   "execution_count": 20,
   "metadata": {},
   "outputs": [
    {
     "data": {
      "text/plain": [
       "'Hasan Moni'"
      ]
     },
     "execution_count": 20,
     "metadata": {},
     "output_type": "execute_result"
    }
   ],
   "source": [
    "class Employee():\n",
    "    def __init__(self, first, last, salary):\n",
    "        self.first=first\n",
    "        self.last=last\n",
    "        self.salary=salary\n",
    "        self.email=first+'.'+last+'@.com'\n",
    "        \n",
    "    def full_name(self):\n",
    "        return ('{} {}'.format(self.first, self.last))\n",
    "        \n",
    "        \n",
    "employee_1 = Employee('Hasan', 'Moni', 100000)\n",
    "employee_2 = Employee('AAAA','BBBB',200000)\n",
    "\n",
    "employee_1.full_name()\n"
   ]
  },
  {
   "cell_type": "code",
   "execution_count": 23,
   "metadata": {},
   "outputs": [
    {
     "data": {
      "text/plain": [
       "'AAAA BBBB'"
      ]
     },
     "execution_count": 23,
     "metadata": {},
     "output_type": "execute_result"
    }
   ],
   "source": [
    "#calling directly\n",
    "Employee.full_name(employee_2)"
   ]
  },
  {
   "cell_type": "code",
   "execution_count": null,
   "metadata": {},
   "outputs": [],
   "source": []
  }
 ],
 "metadata": {
  "kernelspec": {
   "display_name": "Python 3",
   "language": "python",
   "name": "python3"
  },
  "language_info": {
   "codemirror_mode": {
    "name": "ipython",
    "version": 3
   },
   "file_extension": ".py",
   "mimetype": "text/x-python",
   "name": "python",
   "nbconvert_exporter": "python",
   "pygments_lexer": "ipython3",
   "version": "3.7.5"
  }
 },
 "nbformat": 4,
 "nbformat_minor": 2
}
