{
 "cells": [
  {
   "cell_type": "code",
   "execution_count": null,
   "metadata": {},
   "outputs": [],
   "source": []
  },
  {
   "cell_type": "code",
   "execution_count": 42,
   "metadata": {},
   "outputs": [
    {
     "name": "stdout",
     "output_type": "stream",
     "text": [
      "1.5\n",
      "Hasan Moni\n",
      "150000.0\n"
     ]
    }
   ],
   "source": [
    "class Employee():\n",
    "    \n",
    "    sal_percent = 1.5\n",
    "    \n",
    "    def __init__(self, first, last, salary):\n",
    "        self.first=first\n",
    "        self.last=last\n",
    "        self.salary=salary\n",
    "        self.email=first+'.'+last+'@.com'\n",
    "        \n",
    "    def full_name(self):\n",
    "        return '{} {}'.format(self.first, self.last)\n",
    "    \n",
    "    def increased_salary(self):\n",
    "        return self.salary*self.sal_percent\n",
    "\n",
    "#creating new class\n",
    "class Developer(Employee):\n",
    "    pass\n",
    "    \n",
    "    \n",
    "dev_1 = Developer('Hasan', 'Moni', 100000)\n",
    "dev_2 = Developer('Rana', 'Mubarak', 100000)   \n",
    "\n",
    "\n",
    "print(dev_1.sal_percent)\n",
    "print(dev_1.full_name())\n",
    "print(dev_2.increased_salary())\n"
   ]
  },
  {
   "cell_type": "code",
   "execution_count": null,
   "metadata": {},
   "outputs": [],
   "source": []
  },
  {
   "cell_type": "code",
   "execution_count": null,
   "metadata": {},
   "outputs": [],
   "source": []
  },
  {
   "cell_type": "code",
   "execution_count": 43,
   "metadata": {},
   "outputs": [
    {
     "name": "stdout",
     "output_type": "stream",
     "text": [
      "5\n",
      "Hasan Moni\n",
      "500000\n"
     ]
    }
   ],
   "source": [
    "class Employee():\n",
    "    \n",
    "    sal_percent = 1.5\n",
    "    \n",
    "    def __init__(self, first, last, salary):\n",
    "        self.first=first\n",
    "        self.last=last\n",
    "        self.salary=salary\n",
    "        self.email=first+'.'+last+'@.com'\n",
    "        \n",
    "    def full_name(self):\n",
    "        return '{} {}'.format(self.first, self.last)\n",
    "    \n",
    "    def increased_salary(self):\n",
    "        return self.salary*self.sal_percent\n",
    "\n",
    "#creating new class\n",
    "class Developer(Employee):\n",
    "    \n",
    "    sal_percent = 5\n",
    "    \n",
    "    \n",
    "dev_1 = Developer('Hasan', 'Moni', 100000)\n",
    "dev_2 = Developer('Rana', 'Mubarak', 100000)   \n",
    "\n",
    "\n",
    "print(dev_1.sal_percent)\n",
    "print(dev_1.full_name())\n",
    "print(dev_2.increased_salary())"
   ]
  },
  {
   "cell_type": "code",
   "execution_count": null,
   "metadata": {},
   "outputs": [],
   "source": []
  },
  {
   "cell_type": "code",
   "execution_count": null,
   "metadata": {},
   "outputs": [],
   "source": []
  },
  {
   "cell_type": "code",
   "execution_count": 44,
   "metadata": {},
   "outputs": [
    {
     "name": "stdout",
     "output_type": "stream",
     "text": [
      "500000\n",
      "java\n"
     ]
    }
   ],
   "source": [
    "class Employee():\n",
    "    \n",
    "    sal_percent = 1.5\n",
    "    \n",
    "    def __init__(self, first, last, salary):\n",
    "        self.first=first\n",
    "        self.last=last\n",
    "        self.salary=salary\n",
    "        self.email=first+'.'+last+'@.com'\n",
    "        \n",
    "    def full_name(self):\n",
    "        return '{} {}'.format(self.first, self.last)\n",
    "    \n",
    "    def increased_salary(self):\n",
    "        return self.salary*self.sal_percent\n",
    "\n",
    "#creating new class\n",
    "class Developer(Employee):\n",
    "    \n",
    "    sal_percent = 5\n",
    "    \n",
    "    def __init__(self, first, last, email, prog_lang): \n",
    "        super().__init__(first, last, email)\n",
    "        self.prog_lang = prog_lang\n",
    "        \n",
    "               \n",
    "        \n",
    "dev_1 = Developer('Hasan', 'Moni', 100000, 'python')\n",
    "dev_2 = Developer('Rana', 'Mubarak', 100000, 'java')\n",
    "\n",
    "print(dev_1.increased_salary())\n",
    "print(dev_2.prog_lang)\n",
    "\n"
   ]
  },
  {
   "cell_type": "code",
   "execution_count": null,
   "metadata": {},
   "outputs": [],
   "source": []
  },
  {
   "cell_type": "code",
   "execution_count": null,
   "metadata": {},
   "outputs": [],
   "source": []
  },
  {
   "cell_type": "code",
   "execution_count": 78,
   "metadata": {},
   "outputs": [
    {
     "name": "stdout",
     "output_type": "stream",
     "text": [
      "aaa.bbb@email.com\n",
      "--> Hasan Moni\n",
      "--> Rana Mubarak\n",
      "None\n",
      "--> Hasan Moni\n",
      "None\n"
     ]
    }
   ],
   "source": [
    "class Employee:\n",
    "\n",
    "    raise_amt = 1.04\n",
    "\n",
    "    def __init__(self, first, last, pay):\n",
    "        self.first = first\n",
    "        self.last = last\n",
    "        self.email = first + '.' + last + '@email.com'\n",
    "        self.pay = pay\n",
    "\n",
    "    def fullname(self):\n",
    "        return '{} {}'.format(self.first, self.last)\n",
    "\n",
    "    def apply_raise(self):\n",
    "        self.pay = int(self.pay * self.raise_amt)\n",
    "        \n",
    "        \n",
    "\n",
    "#creating new class\n",
    "class Developer(Employee):\n",
    "    raise_amt = 1.10\n",
    "\n",
    "    def __init__(self, first, last, pay, prog_lang):\n",
    "        super().__init__(first, last, pay)\n",
    "        self.prog_lang = prog_lang\n",
    "        \n",
    "\n",
    "        \n",
    "#crating another new class\n",
    "class Manager(Employee):\n",
    "    \n",
    "    def __init__(self, first, last, pay, employees=None):\n",
    "        super().__init__(first, last, pay)\n",
    "        if employees is None:\n",
    "            self.employees = []\n",
    "        else:\n",
    "            self.employees = employees\n",
    "            \n",
    "    def add_emp(self, emp):\n",
    "        if emp not in self.employees:\n",
    "            self.employees.append(emp)\n",
    "\n",
    "    def remove_emp(self, emp):\n",
    "        if emp in self.employees:\n",
    "            self.employees.remove(emp)\n",
    "\n",
    "    def print_emps(self):\n",
    "        for emp in self.employees:\n",
    "            print('-->', emp.fullname())\n",
    "            \n",
    "        \n",
    "dev_1 = Developer('Hasan', 'Moni', 100000, 'python')\n",
    "dev_2 = Developer('Rana', 'Mubarak', 100000, 'java')\n",
    "\n",
    "mag_1 = Manager('aaa', 'bbb', 9000, [dev_1])\n",
    "\n",
    "print(mag_1.email)\n",
    "\n",
    "mag_1.add_emp(dev_2)\n",
    "print(mag_1.print_emps())\n",
    "\n",
    "mag_1.remove_emp(dev_2)\n",
    "print(mag_1.print_emps())\n"
   ]
  },
  {
   "cell_type": "code",
   "execution_count": null,
   "metadata": {},
   "outputs": [],
   "source": []
  },
  {
   "cell_type": "code",
   "execution_count": null,
   "metadata": {},
   "outputs": [],
   "source": []
  },
  {
   "cell_type": "markdown",
   "metadata": {},
   "source": [
    "### use of tow function \n",
    "\n",
    "1) isinstance\n",
    "\n",
    "2) issubclass"
   ]
  },
  {
   "cell_type": "code",
   "execution_count": 82,
   "metadata": {},
   "outputs": [
    {
     "name": "stdout",
     "output_type": "stream",
     "text": [
      "True\n",
      "True\n",
      "False\n"
     ]
    }
   ],
   "source": [
    "print(issubclass(Developer, Employee))\n",
    "print(issubclass(Manager, Employee))\n",
    "print(issubclass(Manager, Developer))"
   ]
  },
  {
   "cell_type": "code",
   "execution_count": 85,
   "metadata": {},
   "outputs": [
    {
     "name": "stdout",
     "output_type": "stream",
     "text": [
      "False\n",
      "False\n",
      "False\n"
     ]
    }
   ],
   "source": [
    "print(isinstance(Manager, Employee))\n",
    "print(isinstance(Manager, Developer))\n",
    "print(isinstance(Developer, Employee))"
   ]
  },
  {
   "cell_type": "code",
   "execution_count": 88,
   "metadata": {},
   "outputs": [
    {
     "name": "stdout",
     "output_type": "stream",
     "text": [
      "True\n",
      "True\n",
      "False\n",
      "False\n"
     ]
    }
   ],
   "source": [
    "print(isinstance(mag_1, Manager))\n",
    "print(isinstance(mag_1, Employee))\n",
    "print(isinstance(Developer, Employee))\n",
    "print(isinstance(mag_1, Developer))"
   ]
  },
  {
   "cell_type": "code",
   "execution_count": null,
   "metadata": {},
   "outputs": [],
   "source": []
  }
 ],
 "metadata": {
  "kernelspec": {
   "display_name": "Python 3",
   "language": "python",
   "name": "python3"
  },
  "language_info": {
   "codemirror_mode": {
    "name": "ipython",
    "version": 3
   },
   "file_extension": ".py",
   "mimetype": "text/x-python",
   "name": "python",
   "nbconvert_exporter": "python",
   "pygments_lexer": "ipython3",
   "version": "3.7.5"
  }
 },
 "nbformat": 4,
 "nbformat_minor": 2
}
