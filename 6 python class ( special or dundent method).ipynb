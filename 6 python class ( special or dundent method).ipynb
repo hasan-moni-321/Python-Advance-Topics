{
 "cells": [
  {
   "cell_type": "code",
   "execution_count": 4,
   "metadata": {},
   "outputs": [
    {
     "name": "stdout",
     "output_type": "stream",
     "text": [
      "<__main__.Employee object at 0x7ff19c0a9590>\n"
     ]
    }
   ],
   "source": [
    "class Employee():\n",
    "    \n",
    "    percent_increase = 1.04\n",
    "    \n",
    "    def __init__(self, first, last, salary):\n",
    "        self.first = first\n",
    "        self.last = last\n",
    "        self.email = first+'.'+last+'@.com'\n",
    "        self.salary = salary\n",
    "        \n",
    "    def full_name(self):\n",
    "        return '{} {}'.format(self.first, self.last)\n",
    "    \n",
    "    def increases_salary(self):\n",
    "        return self.salary*self.percent_increase\n",
    "    \n",
    "    \n",
    "emp_1 = Employee('hasan','moni',1000)\n",
    "emp_2 = Employee('rana', 'mubarok',2000)\n",
    "\n",
    "print(emp_1)\n"
   ]
  },
  {
   "cell_type": "markdown",
   "metadata": {},
   "source": [
    "This is an object or memory location but don't show details. To show details we can use special method."
   ]
  },
  {
   "cell_type": "code",
   "execution_count": null,
   "metadata": {},
   "outputs": [],
   "source": []
  },
  {
   "cell_type": "code",
   "execution_count": null,
   "metadata": {},
   "outputs": [],
   "source": []
  },
  {
   "cell_type": "code",
   "execution_count": 10,
   "metadata": {},
   "outputs": [
    {
     "name": "stdout",
     "output_type": "stream",
     "text": [
      "Employee('hasan','moni', 1000)\n"
     ]
    }
   ],
   "source": [
    "class Employee():\n",
    "    \n",
    "    percent_increase = 1.04\n",
    "    \n",
    "    def __init__(self, first, last, salary):\n",
    "        self.first = first\n",
    "        self.last = last\n",
    "        self.email = first+'.'+last+'@.com'\n",
    "        self.salary = salary\n",
    "        \n",
    "    def full_name(self):\n",
    "        return '{} {}'.format(self.first, self.last)\n",
    "    \n",
    "    def increases_salary(self):\n",
    "        return self.salary*self.percent_increase\n",
    "    \n",
    "    def __repr__(self):\n",
    "        return \"Employee('{}','{}', {})\".format(self.first, self.last, self.salary)\n",
    "    \n",
    "    \n",
    "emp_1 = Employee('hasan','moni',1000)\n",
    "emp_2 = Employee('rana', 'mubarok',2000)\n",
    "\n",
    "print(emp_1)"
   ]
  },
  {
   "cell_type": "code",
   "execution_count": null,
   "metadata": {},
   "outputs": [],
   "source": []
  },
  {
   "cell_type": "code",
   "execution_count": null,
   "metadata": {},
   "outputs": [],
   "source": []
  },
  {
   "cell_type": "code",
   "execution_count": 14,
   "metadata": {},
   "outputs": [
    {
     "name": "stdout",
     "output_type": "stream",
     "text": [
      "rana mubarok - rana.mubarok@.com\n"
     ]
    }
   ],
   "source": [
    "class Employee():\n",
    "    \n",
    "    percent_increase = 1.04\n",
    "    \n",
    "    def __init__(self, first, last, salary):\n",
    "        self.first = first\n",
    "        self.last = last\n",
    "        self.email = first+'.'+last+'@.com'\n",
    "        self.salary = salary\n",
    "        \n",
    "    def full_name(self):\n",
    "        return '{} {}'.format(self.first, self.last)\n",
    "    \n",
    "    def increases_salary(self):\n",
    "        return self.salary*self.percent_increase\n",
    "    \n",
    "    def __repr__(self):\n",
    "        return \"Employee('{}','{}', {})\".format(self.first, self.last, self.salary)\n",
    "    \n",
    "    def __str__(self):\n",
    "        return '{} - {}'.format(self.full_name(), self.email)\n",
    "    \n",
    "    \n",
    "emp_1 = Employee('hasan','moni',1000)\n",
    "emp_2 = Employee('rana', 'mubarok',2000)\n",
    "\n",
    "print(emp_2)"
   ]
  },
  {
   "cell_type": "code",
   "execution_count": 20,
   "metadata": {},
   "outputs": [
    {
     "name": "stdout",
     "output_type": "stream",
     "text": [
      "Employee('hasan','moni', 1000)\n",
      "rana mubarok - rana.mubarok@.com\n"
     ]
    }
   ],
   "source": [
    "#calling directly special method\n",
    "print(repr(emp_1))\n",
    "\n",
    "#calling directly special method\n",
    "print(str(emp_2))"
   ]
  },
  {
   "cell_type": "code",
   "execution_count": 25,
   "metadata": {},
   "outputs": [
    {
     "name": "stdout",
     "output_type": "stream",
     "text": [
      "Employee('hasan','moni', 1000)\n",
      "rana mubarok - rana.mubarok@.com\n"
     ]
    }
   ],
   "source": [
    "#printing with object and special method\n",
    "print(emp_1.__repr__())\n",
    "\n",
    "#printing with object and special method\n",
    "print(emp_2.__str__())"
   ]
  },
  {
   "cell_type": "code",
   "execution_count": null,
   "metadata": {},
   "outputs": [],
   "source": []
  },
  {
   "cell_type": "code",
   "execution_count": null,
   "metadata": {},
   "outputs": [],
   "source": []
  },
  {
   "cell_type": "code",
   "execution_count": 27,
   "metadata": {},
   "outputs": [
    {
     "name": "stdout",
     "output_type": "stream",
     "text": [
      "3000\n"
     ]
    }
   ],
   "source": [
    "class Employee():\n",
    "    \n",
    "    percent_increase = 1.04\n",
    "    \n",
    "    def __init__(self, first, last, salary):\n",
    "        self.first = first\n",
    "        self.last = last\n",
    "        self.email = first+'.'+last+'@.com'\n",
    "        self.salary = salary\n",
    "        \n",
    "    def full_name(self):\n",
    "        return '{} {}'.format(self.first, self.last)\n",
    "    \n",
    "    def increases_salary(self):\n",
    "        return self.salary*self.percent_increase\n",
    "    \n",
    "    def __repr__(self):\n",
    "        return \"Employee('{}','{}', {})\".format(self.first, self.last, self.salary)\n",
    "    \n",
    "    def __str__(self):\n",
    "        return '{} - {}'.format(self.full_name(), self.email)\n",
    "    \n",
    "    def __add__(self, other):\n",
    "        return self.salary + other.salary\n",
    "    \n",
    "    \n",
    "emp_1 = Employee('hasan','moni',1000)\n",
    "emp_2 = Employee('rana', 'mubarok',2000)\n",
    "\n",
    "\n",
    "print(emp_1 + emp_2)"
   ]
  },
  {
   "cell_type": "code",
   "execution_count": null,
   "metadata": {},
   "outputs": [],
   "source": []
  },
  {
   "cell_type": "code",
   "execution_count": null,
   "metadata": {},
   "outputs": [],
   "source": []
  },
  {
   "cell_type": "code",
   "execution_count": 33,
   "metadata": {},
   "outputs": [
    {
     "name": "stdout",
     "output_type": "stream",
     "text": [
      "Hasan\n",
      "5\n",
      "5\n"
     ]
    }
   ],
   "source": [
    "print('Hasan')\n",
    "print(len('Hasan'))\n",
    "\n",
    "#special/ dunder method in python\n",
    "print('hasan'.__len__())"
   ]
  },
  {
   "cell_type": "code",
   "execution_count": null,
   "metadata": {},
   "outputs": [],
   "source": []
  },
  {
   "cell_type": "code",
   "execution_count": null,
   "metadata": {},
   "outputs": [],
   "source": []
  },
  {
   "cell_type": "code",
   "execution_count": 36,
   "metadata": {},
   "outputs": [
    {
     "name": "stdout",
     "output_type": "stream",
     "text": [
      "10\n"
     ]
    }
   ],
   "source": [
    "class Employee():\n",
    "    \n",
    "    percent_increase = 1.04\n",
    "    \n",
    "    def __init__(self, first, last, salary):\n",
    "        self.first = first\n",
    "        self.last = last\n",
    "        self.email = first+'.'+last+'@.com'\n",
    "        self.salary = salary\n",
    "        \n",
    "    def full_name(self):\n",
    "        return '{} {}'.format(self.first, self.last)\n",
    "    \n",
    "    def increases_salary(self):\n",
    "        return self.salary*self.percent_increase\n",
    "    \n",
    "    def __repr__(self):\n",
    "        return \"Employee('{}','{}', {})\".format(self.first, self.last, self.salary)\n",
    "    \n",
    "    def __str__(self):\n",
    "        return '{} - {}'.format(self.full_name(), self.email)\n",
    "    \n",
    "    def __add__(self, other):\n",
    "        return self.salary + other.salary\n",
    "    \n",
    "    def __len__(self):\n",
    "        return len(self.full_name())\n",
    "    \n",
    "    \n",
    "emp_1 = Employee('hasan','moni', 1000)\n",
    "emp_2 = Employee('rana', 'mubarok', 2000)\n",
    "\n",
    "#calling special method and finding length of full name\n",
    "print(len(emp_1))"
   ]
  },
  {
   "cell_type": "code",
   "execution_count": null,
   "metadata": {},
   "outputs": [],
   "source": []
  }
 ],
 "metadata": {
  "kernelspec": {
   "display_name": "Python 3",
   "language": "python",
   "name": "python3"
  },
  "language_info": {
   "codemirror_mode": {
    "name": "ipython",
    "version": 3
   },
   "file_extension": ".py",
   "mimetype": "text/x-python",
   "name": "python",
   "nbconvert_exporter": "python",
   "pygments_lexer": "ipython3",
   "version": "3.7.4"
  }
 },
 "nbformat": 4,
 "nbformat_minor": 2
}
