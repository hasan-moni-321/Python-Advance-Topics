{
 "cells": [
  {
   "cell_type": "code",
   "execution_count": 1,
   "metadata": {},
   "outputs": [
    {
     "name": "stdout",
     "output_type": "stream",
     "text": [
      "Hasan\n",
      "Moni\n"
     ]
    }
   ],
   "source": [
    "class Person:\n",
    "    pass\n",
    "\n",
    "\n",
    "\n",
    "person_class=Person()\n",
    "\n",
    "person_class.first='Hasan'\n",
    "person_class.second='Moni'\n",
    "print(person_class.first)\n",
    "print(person_class.second)"
   ]
  },
  {
   "cell_type": "code",
   "execution_count": 2,
   "metadata": {},
   "outputs": [
    {
     "name": "stdout",
     "output_type": "stream",
     "text": [
      "Hasan Moni\n"
     ]
    }
   ],
   "source": [
    "#using setattr and getattr\n",
    "class Person():\n",
    "    pass\n",
    "\n",
    "\n",
    "person_class = Person()\n",
    "\n",
    "first_key = 'Key'\n",
    "first_value = 'Hasan Moni'\n",
    "\n",
    "setattr(person_class, first_key, first_value)\n",
    "\n",
    "first = getattr(person_class, first_key)#calling only first_key\n",
    "print(first)"
   ]
  },
  {
   "cell_type": "code",
   "execution_count": 6,
   "metadata": {},
   "outputs": [
    {
     "ename": "AttributeError",
     "evalue": "'Person' object has no attribute 'Hasan Moni'",
     "output_type": "error",
     "traceback": [
      "\u001b[0;31m---------------------------------------------------------------------------\u001b[0m",
      "\u001b[0;31mAttributeError\u001b[0m                            Traceback (most recent call last)",
      "\u001b[0;32m<ipython-input-6-2691c93a8c8a>\u001b[0m in \u001b[0;36m<module>\u001b[0;34m\u001b[0m\n\u001b[1;32m     11\u001b[0m \u001b[0msetattr\u001b[0m\u001b[0;34m(\u001b[0m\u001b[0mperson_class\u001b[0m\u001b[0;34m,\u001b[0m \u001b[0mfirst_key\u001b[0m\u001b[0;34m,\u001b[0m \u001b[0mfirst_value\u001b[0m\u001b[0;34m)\u001b[0m\u001b[0;34m\u001b[0m\u001b[0;34m\u001b[0m\u001b[0m\n\u001b[1;32m     12\u001b[0m \u001b[0;34m\u001b[0m\u001b[0m\n\u001b[0;32m---> 13\u001b[0;31m \u001b[0mfirst\u001b[0m \u001b[0;34m=\u001b[0m \u001b[0mgetattr\u001b[0m\u001b[0;34m(\u001b[0m\u001b[0mperson_class\u001b[0m\u001b[0;34m,\u001b[0m \u001b[0mfirst_value\u001b[0m\u001b[0;34m)\u001b[0m\u001b[0;34m\u001b[0m\u001b[0;34m\u001b[0m\u001b[0m\n\u001b[0m\u001b[1;32m     14\u001b[0m \u001b[0mprint\u001b[0m\u001b[0;34m(\u001b[0m\u001b[0mfirst\u001b[0m\u001b[0;34m)\u001b[0m\u001b[0;34m\u001b[0m\u001b[0;34m\u001b[0m\u001b[0m\n",
      "\u001b[0;31mAttributeError\u001b[0m: 'Person' object has no attribute 'Hasan Moni'"
     ]
    }
   ],
   "source": [
    "#using setattr and getattr\n",
    "class Person():\n",
    "    pass\n",
    "\n",
    "\n",
    "person_class = Person()\n",
    "\n",
    "first_key = 'Key'\n",
    "first_value = 'Hasan Moni'\n",
    "\n",
    "setattr(person_class, first_key, first_value)\n",
    "\n",
    "first = getattr(person_class, first_value)\n",
    "print(first)"
   ]
  },
  {
   "cell_type": "code",
   "execution_count": 11,
   "metadata": {},
   "outputs": [
    {
     "name": "stdout",
     "output_type": "stream",
     "text": [
      "Hasan Moni\n"
     ]
    }
   ],
   "source": [
    "#shortly\n",
    "class Person():\n",
    "    pass\n",
    "\n",
    "\n",
    "person_class = Person()\n",
    "\n",
    "person_info = {'first': 'Hasan', 'last': 'Moni'}\n",
    "\n",
    "for key, value in person_info.items():\n",
    "    setattr(person_class, key, value)\n",
    "\n",
    "print(person_class.first, person_class.last)"
   ]
  },
  {
   "cell_type": "code",
   "execution_count": 12,
   "metadata": {},
   "outputs": [
    {
     "name": "stdout",
     "output_type": "stream",
     "text": [
      "Hasan\n",
      "Moni\n"
     ]
    }
   ],
   "source": [
    "for key in person_info.keys():\n",
    "    print(getattr(person_class, key))\n",
    "\n"
   ]
  },
  {
   "cell_type": "code",
   "execution_count": null,
   "metadata": {},
   "outputs": [],
   "source": []
  }
 ],
 "metadata": {
  "kernelspec": {
   "display_name": "Python 3",
   "language": "python",
   "name": "python3"
  },
  "language_info": {
   "codemirror_mode": {
    "name": "ipython",
    "version": 3
   },
   "file_extension": ".py",
   "mimetype": "text/x-python",
   "name": "python",
   "nbconvert_exporter": "python",
   "pygments_lexer": "ipython3",
   "version": "3.7.5"
  }
 },
 "nbformat": 4,
 "nbformat_minor": 2
}
