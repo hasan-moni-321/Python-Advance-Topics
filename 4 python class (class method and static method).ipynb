{
 "cells": [
  {
   "cell_type": "markdown",
   "metadata": {},
   "source": [
    "## class method"
   ]
  },
  {
   "cell_type": "code",
   "execution_count": 16,
   "metadata": {},
   "outputs": [
    {
     "name": "stdout",
     "output_type": "stream",
     "text": [
      "2\n",
      "150000.0\n",
      "300000.0\n",
      "150000.0\n",
      "300000.0\n"
     ]
    }
   ],
   "source": [
    "class Employee():\n",
    "    \n",
    "    employee_num = 0\n",
    "    raise_amount = 1.5\n",
    "    \n",
    "    def __init__(self, first, last, salary):\n",
    "        self.first=first\n",
    "        self.last=last\n",
    "        self.salary=salary\n",
    "        self.email=first+'.'+last+'@.com'\n",
    "        \n",
    "        Employee.employee_num += 1\n",
    "        \n",
    "    def full_name(self):\n",
    "        return ('{} {}'.format(self.first, self.last))\n",
    "    \n",
    "    def total_salary(self):\n",
    "        return (self.salary*self.raise_amount)\n",
    "    \n",
    "    @classmethod\n",
    "    def increase_salary(cls, sal):\n",
    "        cls.raise_amount = sal\n",
    "        \n",
    "        \n",
    "employee_1 = Employee('Hasan', 'Moni', 100000)\n",
    "employee_2 = Employee('AAAA','BBBB', 200000)\n",
    "\n",
    "#total employee\n",
    "print(Employee.employee_num)\n",
    "\n",
    "#changing the value of raise_amount\n",
    "Employee.increase_salary(1.5)\n",
    "\n",
    "\n",
    "print(employee_1.total_salary())\n",
    "print(employee_2.total_salary())\n",
    "\n",
    "#increasing salary of first employee\n",
    "employee_1.increase_salary(1.5)\n",
    "\n",
    "print(employee_1.total_salary())\n",
    "print(employee_2.total_salary())"
   ]
  },
  {
   "cell_type": "code",
   "execution_count": null,
   "metadata": {},
   "outputs": [],
   "source": []
  },
  {
   "cell_type": "code",
   "execution_count": null,
   "metadata": {},
   "outputs": [],
   "source": []
  },
  {
   "cell_type": "code",
   "execution_count": 22,
   "metadata": {},
   "outputs": [
    {
     "name": "stdout",
     "output_type": "stream",
     "text": [
      "Rana\n",
      "5000\n"
     ]
    }
   ],
   "source": [
    "#class method as constructor\n",
    "class Employee():   \n",
    "    employee_num = 0\n",
    "    raise_amount = 1.5\n",
    "    \n",
    "    def __init__(self, first, last, salary):\n",
    "        self.first=first\n",
    "        self.last=last\n",
    "        self.salary=salary\n",
    "        self.email=first+'.'+last+'@.com'\n",
    "        \n",
    "        Employee.employee_num += 1\n",
    "        \n",
    "    def full_name(self):\n",
    "        return ('{} {}'.format(self.first, self.last))\n",
    "    \n",
    "    def total_salary(self):\n",
    "        return (self.salary*self.raise_amount)\n",
    "    \n",
    "    @classmethod\n",
    "    def increase_salary(cls, sal):\n",
    "        cls.raise_amount = sal\n",
    "        \n",
    "    #creating alternative new constructor    \n",
    "    @classmethod\n",
    "    def from_string(cls, string):\n",
    "        first, last, salary = string.split('-')\n",
    "        return cls(first, last, salary)\n",
    "        \n",
    "        \n",
    "employee_1 = Employee('Hasan', 'Moni', 100000)\n",
    "employee_2 = Employee('AAAA','BBBB', 200000)\n",
    "\n",
    "#creating new employee\n",
    "details = 'Rana-Mubarak-5000'\n",
    "new_employee_1 = Employee.from_string(details)\n",
    "\n",
    "print(new_employee_1.first)\n",
    "print(new_employee_1.salary)\n"
   ]
  },
  {
   "cell_type": "code",
   "execution_count": null,
   "metadata": {},
   "outputs": [],
   "source": []
  },
  {
   "cell_type": "markdown",
   "metadata": {},
   "source": [
    "## static method"
   ]
  },
  {
   "cell_type": "code",
   "execution_count": 39,
   "metadata": {},
   "outputs": [
    {
     "name": "stdout",
     "output_type": "stream",
     "text": [
      "False\n"
     ]
    }
   ],
   "source": [
    "#class method as constructor\n",
    "import datetime \n",
    "\n",
    "class Employee():   \n",
    "    employee_num = 0\n",
    "    raise_amount = 1.5\n",
    "    \n",
    "    def __init__(self, first, last, salary):\n",
    "        self.first=first\n",
    "        self.last=last\n",
    "        self.salary=salary\n",
    "        self.email=first+'.'+last+'@.com'\n",
    "        \n",
    "        Employee.employee_num += 1\n",
    "        \n",
    "    def full_name(self):\n",
    "        return ('{} {}'.format(self.first, self.last))\n",
    "    \n",
    "    def total_salary(self):\n",
    "        return (self.salary*self.raise_amount)\n",
    "    \n",
    "    @classmethod\n",
    "    def increase_salary(cls, sal):\n",
    "        cls.raise_amount = sal\n",
    "        \n",
    "    #creating alternative new constructor    \n",
    "    @classmethod\n",
    "    def from_string(cls, string):\n",
    "        first, last, salary = string.split('-')\n",
    "        return cls(first, last, salary)\n",
    "    \n",
    "    @staticmethod\n",
    "    def static_method(day):\n",
    "        if day.weekday() == 5 or day.weekday() == 6:\n",
    "            return False\n",
    "        \n",
    "        return True\n",
    "        \n",
    "        \n",
    "employee_1 = Employee('Hasan', 'Moni', 100000)\n",
    "employee_2 = Employee('AAAA','BBBB', 200000)\n",
    "\n",
    "date = datetime.date(2020, 6, 14)\n",
    "date = Employee.static_method(date)\n",
    "print(date)\n",
    "\n"
   ]
  },
  {
   "cell_type": "code",
   "execution_count": null,
   "metadata": {},
   "outputs": [],
   "source": []
  }
 ],
 "metadata": {
  "kernelspec": {
   "display_name": "Python 3",
   "language": "python",
   "name": "python3"
  },
  "language_info": {
   "codemirror_mode": {
    "name": "ipython",
    "version": 3
   },
   "file_extension": ".py",
   "mimetype": "text/x-python",
   "name": "python",
   "nbconvert_exporter": "python",
   "pygments_lexer": "ipython3",
   "version": "3.7.5"
  }
 },
 "nbformat": 4,
 "nbformat_minor": 2
}
