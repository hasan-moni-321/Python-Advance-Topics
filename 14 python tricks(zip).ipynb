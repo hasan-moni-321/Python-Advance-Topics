{
 "cells": [
  {
   "cell_type": "code",
   "execution_count": 3,
   "metadata": {},
   "outputs": [
    {
     "name": "stdout",
     "output_type": "stream",
     "text": [
      "Peter Parker is the actor Spiderman\n",
      "Clark Kent is the actor Superman\n",
      "Wade Wilson is the actor Deadpool\n",
      "Bruce Wayne is the actor Batman\n"
     ]
    }
   ],
   "source": [
    "names = ['Peter Parker','Clark Kent','Wade Wilson','Bruce Wayne']\n",
    "heroes = ['Spiderman','Superman','Deadpool','Batman']\n",
    "\n",
    "for i, name in enumerate(names):\n",
    "    hero = heroes[i]\n",
    "    print(f'{name} is the actor {hero}')"
   ]
  },
  {
   "cell_type": "code",
   "execution_count": 6,
   "metadata": {},
   "outputs": [
    {
     "name": "stdout",
     "output_type": "stream",
     "text": [
      "Peter Parker is actually Spiderman and the address is NY\n",
      "Clark Kent is actually Superman and the address is Boston\n",
      "Wade Wilson is actually Deadpool and the address is Texas\n",
      "Bruce Wayne is actually Batman and the address is WD\n"
     ]
    }
   ],
   "source": [
    "#shortly\n",
    "names = ['Peter Parker','Clark Kent','Wade Wilson','Bruce Wayne']\n",
    "heroes = ['Spiderman','Superman','Deadpool','Batman']\n",
    "address = ['NY', 'Boston', 'Texas', 'WD']\n",
    "\n",
    "for name, hero, address in zip(names, heroes, address):\n",
    "    print(f'{name} is actually {hero} and the address is {address}')"
   ]
  },
  {
   "cell_type": "code",
   "execution_count": null,
   "metadata": {},
   "outputs": [],
   "source": []
  },
  {
   "cell_type": "code",
   "execution_count": 7,
   "metadata": {},
   "outputs": [
    {
     "name": "stdout",
     "output_type": "stream",
     "text": [
      "('Peter Parker', 'Spiderman', 'NY')\n",
      "('Clark Kent', 'Superman', 'Boston')\n",
      "('Wade Wilson', 'Deadpool', 'Texas')\n",
      "('Bruce Wayne', 'Batman', 'WD')\n"
     ]
    }
   ],
   "source": [
    "#shortly\n",
    "names = ['Peter Parker','Clark Kent','Wade Wilson','Bruce Wayne']\n",
    "heroes = ['Spiderman','Superman','Deadpool','Batman']\n",
    "address = ['NY', 'Boston', 'Texas', 'WD']\n",
    "\n",
    "for value in zip(names, heroes, address):\n",
    "    print(value)"
   ]
  },
  {
   "cell_type": "code",
   "execution_count": null,
   "metadata": {},
   "outputs": [],
   "source": []
  }
 ],
 "metadata": {
  "kernelspec": {
   "display_name": "Python 3",
   "language": "python",
   "name": "python3"
  },
  "language_info": {
   "codemirror_mode": {
    "name": "ipython",
    "version": 3
   },
   "file_extension": ".py",
   "mimetype": "text/x-python",
   "name": "python",
   "nbconvert_exporter": "python",
   "pygments_lexer": "ipython3",
   "version": "3.7.5"
  }
 },
 "nbformat": 4,
 "nbformat_minor": 2
}
