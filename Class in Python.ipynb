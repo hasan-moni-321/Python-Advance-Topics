{
 "cells": [
  {
   "cell_type": "code",
   "execution_count": 5,
   "metadata": {},
   "outputs": [
    {
     "name": "stdout",
     "output_type": "stream",
     "text": [
      "Hasan Moni\n",
      "Hearted person\n"
     ]
    }
   ],
   "source": [
    "class Person_class:\n",
    "    def __init__(self, human_name):\n",
    "        self.name = human_name\n",
    "        \n",
    "    def return_name(self):\n",
    "        return self.name\n",
    "    \n",
    "call_class = Person_class('Hasan Moni')\n",
    "print(call_class.return_name())\n",
    "\n",
    "call_class2 = Person_class('Hearted person')\n",
    "print(call_class2.return_name())\n",
    "\n"
   ]
  },
  {
   "cell_type": "code",
   "execution_count": null,
   "metadata": {},
   "outputs": [],
   "source": []
  },
  {
   "cell_type": "code",
   "execution_count": 7,
   "metadata": {},
   "outputs": [
    {
     "name": "stdout",
     "output_type": "stream",
     "text": [
      "('Hasan Moni', '25', '1995')\n"
     ]
    }
   ],
   "source": [
    "class Person_class:\n",
    "    def __init__(self, human_name, human_age, human_birthday):\n",
    "        self.name = human_name\n",
    "        self.age = human_age\n",
    "        self.birth = human_birthday\n",
    "        \n",
    "    def return_name(self):\n",
    "        return self.name\n",
    "    \n",
    "    def identity(self):\n",
    "        return self.name, self.age, self.birth\n",
    "    \n",
    "call_class = Person_class('Hasan Moni', '25','1995')\n",
    "print(call_class.identity())\n",
    "\n",
    "\n"
   ]
  },
  {
   "cell_type": "code",
   "execution_count": null,
   "metadata": {},
   "outputs": [],
   "source": []
  },
  {
   "cell_type": "code",
   "execution_count": null,
   "metadata": {},
   "outputs": [],
   "source": []
  },
  {
   "cell_type": "code",
   "execution_count": 20,
   "metadata": {},
   "outputs": [
    {
     "name": "stdout",
     "output_type": "stream",
     "text": [
      "('Hasan', '25', '1995')\n",
      "('Hasan Moni', '25', '1995')\n"
     ]
    }
   ],
   "source": [
    "class Person_class:\n",
    "    def __init__(self, human_name, human_age, human_birthday):\n",
    "        self.name = human_name\n",
    "        self.age = human_age\n",
    "        self.birth = human_birthday\n",
    "        \n",
    "    def set_name(self, new_name):\n",
    "        self.name=new_name\n",
    "    \n",
    "    def identity(self):\n",
    "        return self.name, self.age, self.birth\n",
    "    \n",
    "call_class = Person_class('Hasan', '25','1995')\n",
    "print(call_class.identity())\n",
    "\n",
    "#changing our old name\n",
    "call_class.set_name('Hasan Moni')\n",
    "print(call_class.identity())"
   ]
  },
  {
   "cell_type": "code",
   "execution_count": null,
   "metadata": {},
   "outputs": [],
   "source": []
  },
  {
   "cell_type": "code",
   "execution_count": null,
   "metadata": {},
   "outputs": [],
   "source": []
  },
  {
   "cell_type": "code",
   "execution_count": 21,
   "metadata": {},
   "outputs": [
    {
     "name": "stdout",
     "output_type": "stream",
     "text": [
      "('Hasan', '25', '1995')\n",
      "('Hasan Moni', '25', '1995')\n",
      "Hasan Moni\n"
     ]
    }
   ],
   "source": [
    "class Person_class:\n",
    "    def __init__(self, human_name, human_age, human_birthday):\n",
    "        self.name = human_name\n",
    "        self.age = human_age\n",
    "        self.birth = human_birthday\n",
    "        \n",
    "    def set_name(self, new_name):\n",
    "        self.name=new_name\n",
    "    \n",
    "    def identity(self):\n",
    "        return self.name, self.age, self.birth\n",
    "    \n",
    "call_class = Person_class('Hasan', '25','1995')\n",
    "print(call_class.identity())\n",
    "\n",
    "#changing our old name\n",
    "call_class.set_name('Hasan Moni')\n",
    "print(call_class.identity())\n",
    "#accessing only a variable\n",
    "print(call_class.name)"
   ]
  },
  {
   "cell_type": "code",
   "execution_count": null,
   "metadata": {},
   "outputs": [],
   "source": []
  }
 ],
 "metadata": {
  "kernelspec": {
   "display_name": "Python 3",
   "language": "python",
   "name": "python3"
  },
  "language_info": {
   "codemirror_mode": {
    "name": "ipython",
    "version": 3
   },
   "file_extension": ".py",
   "mimetype": "text/x-python",
   "name": "python",
   "nbconvert_exporter": "python",
   "pygments_lexer": "ipython3",
   "version": "3.7.5"
  }
 },
 "nbformat": 4,
 "nbformat_minor": 2
}
