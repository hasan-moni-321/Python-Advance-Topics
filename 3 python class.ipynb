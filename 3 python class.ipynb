{
 "cells": [
  {
   "cell_type": "code",
   "execution_count": 1,
   "metadata": {},
   "outputs": [
    {
     "data": {
      "text/plain": [
       "'Hasan Moni'"
      ]
     },
     "execution_count": 1,
     "metadata": {},
     "output_type": "execute_result"
    }
   ],
   "source": [
    "class Employee():\n",
    "    def __init__(self, first, last, salary):\n",
    "        self.first=first\n",
    "        self.last=last\n",
    "        self.salary=salary\n",
    "        self.email=first+'.'+last+'@.com'\n",
    "        \n",
    "    def full_name(self):\n",
    "        return ('{} {}'.format(self.first, self.last))\n",
    "        \n",
    "        \n",
    "employee_1 = Employee('Hasan', 'Moni', 100000)\n",
    "employee_2 = Employee('AAAA','BBBB',200000)\n",
    "\n",
    "employee_1.full_name()\n"
   ]
  },
  {
   "cell_type": "code",
   "execution_count": null,
   "metadata": {},
   "outputs": [],
   "source": []
  },
  {
   "cell_type": "code",
   "execution_count": null,
   "metadata": {},
   "outputs": [],
   "source": []
  },
  {
   "cell_type": "code",
   "execution_count": 4,
   "metadata": {},
   "outputs": [
    {
     "data": {
      "text/plain": [
       "105000.0"
      ]
     },
     "execution_count": 4,
     "metadata": {},
     "output_type": "execute_result"
    }
   ],
   "source": [
    "class Employee():\n",
    "    \n",
    "    raise_pay = 1.05\n",
    "    \n",
    "    def __init__(self, first, last, salary):\n",
    "        self.first=first\n",
    "        self.last=last\n",
    "        self.salary=salary\n",
    "        self.email=first+'.'+last+'@.com'\n",
    "        \n",
    "    def full_name(self):\n",
    "        return ('{} {}'.format(self.first, self.last))\n",
    "    \n",
    "    def after_raise(self):\n",
    "        return self.salary*1.05\n",
    "    \n",
    "    \n",
    "employee_1 = Employee('Hasan', 'Moni', 100000)\n",
    "employee_2 = Employee('AAAA','BBBB',200000)\n",
    "\n",
    "employee_1.after_raise()"
   ]
  },
  {
   "cell_type": "code",
   "execution_count": null,
   "metadata": {},
   "outputs": [],
   "source": []
  },
  {
   "cell_type": "code",
   "execution_count": null,
   "metadata": {},
   "outputs": [],
   "source": []
  },
  {
   "cell_type": "code",
   "execution_count": 5,
   "metadata": {},
   "outputs": [
    {
     "ename": "NameError",
     "evalue": "name 'raise_pay' is not defined",
     "output_type": "error",
     "traceback": [
      "\u001b[0;31m---------------------------------------------------------------------------\u001b[0m",
      "\u001b[0;31mNameError\u001b[0m                                 Traceback (most recent call last)",
      "\u001b[0;32m<ipython-input-5-30f862aa539e>\u001b[0m in \u001b[0;36m<module>\u001b[0;34m\u001b[0m\n\u001b[1;32m     19\u001b[0m \u001b[0memployee_2\u001b[0m \u001b[0;34m=\u001b[0m \u001b[0mEmployee\u001b[0m\u001b[0;34m(\u001b[0m\u001b[0;34m'AAAA'\u001b[0m\u001b[0;34m,\u001b[0m\u001b[0;34m'BBBB'\u001b[0m\u001b[0;34m,\u001b[0m\u001b[0;36m200000\u001b[0m\u001b[0;34m)\u001b[0m\u001b[0;34m\u001b[0m\u001b[0;34m\u001b[0m\u001b[0m\n\u001b[1;32m     20\u001b[0m \u001b[0;34m\u001b[0m\u001b[0m\n\u001b[0;32m---> 21\u001b[0;31m \u001b[0memployee_1\u001b[0m\u001b[0;34m.\u001b[0m\u001b[0mafter_raise\u001b[0m\u001b[0;34m(\u001b[0m\u001b[0;34m)\u001b[0m\u001b[0;34m\u001b[0m\u001b[0;34m\u001b[0m\u001b[0m\n\u001b[0m",
      "\u001b[0;32m<ipython-input-5-30f862aa539e>\u001b[0m in \u001b[0;36mafter_raise\u001b[0;34m(self)\u001b[0m\n\u001b[1;32m     13\u001b[0m \u001b[0;34m\u001b[0m\u001b[0m\n\u001b[1;32m     14\u001b[0m     \u001b[0;32mdef\u001b[0m \u001b[0mafter_raise\u001b[0m\u001b[0;34m(\u001b[0m\u001b[0mself\u001b[0m\u001b[0;34m)\u001b[0m\u001b[0;34m:\u001b[0m\u001b[0;34m\u001b[0m\u001b[0;34m\u001b[0m\u001b[0m\n\u001b[0;32m---> 15\u001b[0;31m         \u001b[0;32mreturn\u001b[0m \u001b[0mself\u001b[0m\u001b[0;34m.\u001b[0m\u001b[0msalary\u001b[0m\u001b[0;34m*\u001b[0m\u001b[0mraise_pay\u001b[0m\u001b[0;34m\u001b[0m\u001b[0;34m\u001b[0m\u001b[0m\n\u001b[0m\u001b[1;32m     16\u001b[0m \u001b[0;34m\u001b[0m\u001b[0m\n\u001b[1;32m     17\u001b[0m \u001b[0;34m\u001b[0m\u001b[0m\n",
      "\u001b[0;31mNameError\u001b[0m: name 'raise_pay' is not defined"
     ]
    }
   ],
   "source": [
    "#can't acces those function where have value of variable\n",
    "class Employee():\n",
    "    \n",
    "    raise_pay = 1.05\n",
    "    \n",
    "    def __init__(self, first, last, salary):\n",
    "        self.first=first\n",
    "        self.last=last\n",
    "        self.salary=salary\n",
    "        self.email=first+'.'+last+'@.com'\n",
    "        \n",
    "    def full_name(self):\n",
    "        return ('{} {}'.format(self.first, self.last))\n",
    "    \n",
    "    def after_raise(self):\n",
    "        return self.salary*raise_pay\n",
    "    \n",
    "    \n",
    "employee_1 = Employee('Hasan', 'Moni', 100000)\n",
    "employee_2 = Employee('AAAA','BBBB',200000)\n",
    "\n",
    "employee_1.after_raise()"
   ]
  },
  {
   "cell_type": "code",
   "execution_count": 6,
   "metadata": {},
   "outputs": [
    {
     "data": {
      "text/plain": [
       "105000.0"
      ]
     },
     "execution_count": 6,
     "metadata": {},
     "output_type": "execute_result"
    }
   ],
   "source": [
    "#solution of upper program\n",
    "class Employee():\n",
    "    \n",
    "    raise_pay = 1.05\n",
    "    \n",
    "    def __init__(self, first, last, salary):\n",
    "        self.first=first\n",
    "        self.last=last\n",
    "        self.salary=salary\n",
    "        self.email=first+'.'+last+'@.com'\n",
    "        \n",
    "    def full_name(self):\n",
    "        return ('{} {}'.format(self.first, self.last))\n",
    "    \n",
    "    def after_raise(self):\n",
    "        return self.salary*Employee.raise_pay\n",
    "    \n",
    "    \n",
    "employee_1 = Employee('Hasan', 'Moni', 100000)\n",
    "employee_2 = Employee('AAAA','BBBB',200000)\n",
    "\n",
    "employee_1.after_raise()"
   ]
  },
  {
   "cell_type": "code",
   "execution_count": 7,
   "metadata": {},
   "outputs": [
    {
     "data": {
      "text/plain": [
       "105000.0"
      ]
     },
     "execution_count": 7,
     "metadata": {},
     "output_type": "execute_result"
    }
   ],
   "source": [
    "# another way of the solution of upper program\n",
    "class Employee():\n",
    "    \n",
    "    raise_pay = 1.05\n",
    "    \n",
    "    def __init__(self, first, last, salary):\n",
    "        self.first=first\n",
    "        self.last=last\n",
    "        self.salary=salary\n",
    "        self.email=first+'.'+last+'@.com'\n",
    "        \n",
    "    def full_name(self):\n",
    "        return ('{} {}'.format(self.first, self.last))\n",
    "    \n",
    "    def after_raise(self):\n",
    "        return self.salary*self.raise_pay\n",
    "    \n",
    "    \n",
    "employee_1 = Employee('Hasan', 'Moni', 100000)\n",
    "employee_2 = Employee('AAAA','BBBB',200000)\n",
    "\n",
    "employee_1.after_raise()"
   ]
  },
  {
   "cell_type": "code",
   "execution_count": null,
   "metadata": {},
   "outputs": [],
   "source": []
  },
  {
   "cell_type": "code",
   "execution_count": null,
   "metadata": {},
   "outputs": [],
   "source": []
  },
  {
   "cell_type": "code",
   "execution_count": 17,
   "metadata": {},
   "outputs": [
    {
     "name": "stdout",
     "output_type": "stream",
     "text": [
      "105000.0\n",
      "1.05\n",
      "AAAA BBBB\n",
      "105000.0\n"
     ]
    }
   ],
   "source": [
    "# another way of the solution of upper program\n",
    "class Employee():\n",
    "    \n",
    "    raise_pay = 1.05\n",
    "    \n",
    "    def __init__(self, first, last, salary):\n",
    "        self.first=first\n",
    "        self.last=last\n",
    "        self.salary=salary\n",
    "        self.email=first+'.'+last+'@.com'\n",
    "        \n",
    "    def full_name(self):\n",
    "        return ('{} {}'.format(self.first, self.last))\n",
    "    \n",
    "    def after_raise(self):\n",
    "        return self.salary*self.raise_pay\n",
    "    \n",
    "    \n",
    "employee_1 = Employee('Hasan', 'Moni', 100000)\n",
    "employee_2 = Employee('AAAA','BBBB',200000)\n",
    "\n",
    "print(employee_1.after_raise())\n",
    "print(employee_1.raise_pay)\n",
    "print(Employee.full_name(employee_2))\n",
    "print(Employee.after_raise(employee_1))\n"
   ]
  },
  {
   "cell_type": "code",
   "execution_count": null,
   "metadata": {},
   "outputs": [],
   "source": []
  },
  {
   "cell_type": "code",
   "execution_count": null,
   "metadata": {},
   "outputs": [],
   "source": []
  },
  {
   "cell_type": "code",
   "execution_count": 31,
   "metadata": {},
   "outputs": [
    {
     "name": "stdout",
     "output_type": "stream",
     "text": [
      "2.5\n",
      "250000.0\n",
      "500000.0\n"
     ]
    }
   ],
   "source": [
    "# another way of the solution of upper program\n",
    "class Employee():\n",
    "    \n",
    "    raise_pay = 1.05\n",
    "    \n",
    "    def __init__(self, first, last, salary):\n",
    "        self.first=first\n",
    "        self.last=last\n",
    "        self.salary=salary\n",
    "        self.email=first+'.'+last+'@.com'\n",
    "        \n",
    "    def full_name(self):\n",
    "        return ('{} {}'.format(self.first, self.last))\n",
    "    \n",
    "    def after_raise(self):\n",
    "        return self.salary*self.raise_pay\n",
    "    \n",
    "Employee.raise_pay=2.5\n",
    "employee_1 = Employee('Hasan', 'Moni', 100000)\n",
    "employee_2 = Employee('AAAA','BBBB',200000)\n",
    "\n",
    "#value of riise_pay will change\n",
    "print(Employee.raise_pay)\n",
    "\n",
    "#employee\n",
    "print(employee_1.after_raise())\n",
    "print(employee_2.after_raise())"
   ]
  },
  {
   "cell_type": "markdown",
   "metadata": {},
   "source": [
    "Note: for both employee riase_pay value will change because we change raise_pay with Employee class"
   ]
  },
  {
   "cell_type": "code",
   "execution_count": null,
   "metadata": {},
   "outputs": [],
   "source": []
  },
  {
   "cell_type": "code",
   "execution_count": null,
   "metadata": {},
   "outputs": [],
   "source": []
  },
  {
   "cell_type": "code",
   "execution_count": 35,
   "metadata": {},
   "outputs": [
    {
     "name": "stdout",
     "output_type": "stream",
     "text": [
      "{'first': 'Hasan', 'last': 'Moni', 'salary': 1000, 'email': 'Hasan.Moni@.com', 'raise_pay': 1.2}\n",
      "1.5\n",
      "1.2\n",
      "1.5\n"
     ]
    }
   ],
   "source": [
    "# another way of the solution of upper program\n",
    "class Employee():\n",
    "    \n",
    "    raise_pay = 1.5\n",
    "    \n",
    "    def __init__(self, first, last, salary):\n",
    "        self.first=first\n",
    "        self.last=last\n",
    "        self.salary=salary\n",
    "        self.email=first+'.'+last+'@.com'\n",
    "        \n",
    "    def full_name(self):\n",
    "        return ('{} {}'.format(self.first, self.last))\n",
    "    \n",
    "    def after_raise(self):\n",
    "        return self.salary*self.raise_pay\n",
    "    \n",
    "\n",
    "employee_1 = Employee('Hasan', 'Moni', 1000)\n",
    "employee_2 = Employee('AAAA','BBBB',1000)\n",
    "\n",
    "employee_1.raise_pay = 1.2\n",
    "print(employee_1.__dict__)\n",
    "\n",
    "print(Employee.raise_pay)\n",
    "print(employee_1.raise_pay)\n",
    "print(employee_2.raise_pay)"
   ]
  },
  {
   "cell_type": "code",
   "execution_count": 36,
   "metadata": {},
   "outputs": [
    {
     "name": "stdout",
     "output_type": "stream",
     "text": [
      "1200.0\n",
      "1500.0\n"
     ]
    }
   ],
   "source": [
    "print(employee_1.after_raise())\n",
    "print(employee_2.after_raise())"
   ]
  },
  {
   "cell_type": "markdown",
   "metadata": {},
   "source": [
    "Note: we changed the raise_pay value for employee_1 only for this, for employee_1 pay will increase 1.2% and for employee_2 it will increase 1.5 percent that is initial value."
   ]
  },
  {
   "cell_type": "code",
   "execution_count": null,
   "metadata": {},
   "outputs": [],
   "source": []
  },
  {
   "cell_type": "code",
   "execution_count": null,
   "metadata": {},
   "outputs": [],
   "source": []
  },
  {
   "cell_type": "code",
   "execution_count": 4,
   "metadata": {},
   "outputs": [
    {
     "name": "stdout",
     "output_type": "stream",
     "text": [
      "Before asigning value:  0\n",
      "After assigning value:  2\n"
     ]
    }
   ],
   "source": [
    "class Employee():\n",
    "    \n",
    "    num_of_employee = 0\n",
    "    raise_pay = 1.5\n",
    "    \n",
    "    def __init__(self, first, last, salary):\n",
    "        self.first=first\n",
    "        self.last=last\n",
    "        self.salary=salary\n",
    "        self.email=first+'.'+last+'@.com'\n",
    "        \n",
    "        Employee.num_of_employee +=1\n",
    "        \n",
    "    def full_name(self):\n",
    "        return ('{} {}'.format(self.first, self.last))\n",
    "    \n",
    "    def after_raise(self):\n",
    "        return self.salary*self.raise_pay\n",
    "    \n",
    "print('Before asigning value: ', Employee.num_of_employee)\n",
    "    \n",
    "employee_1 = Employee('Hasan', 'Moni', 1000)\n",
    "employee_2 = Employee('AAAA','BBBB',1000)\n",
    "\n",
    "print('After assigning value: ', Employee.num_of_employee)\n"
   ]
  },
  {
   "cell_type": "code",
   "execution_count": null,
   "metadata": {},
   "outputs": [],
   "source": []
  }
 ],
 "metadata": {
  "kernelspec": {
   "display_name": "Python 3",
   "language": "python",
   "name": "python3"
  },
  "language_info": {
   "codemirror_mode": {
    "name": "ipython",
    "version": 3
   },
   "file_extension": ".py",
   "mimetype": "text/x-python",
   "name": "python",
   "nbconvert_exporter": "python",
   "pygments_lexer": "ipython3",
   "version": "3.7.5"
  }
 },
 "nbformat": 4,
 "nbformat_minor": 2
}
